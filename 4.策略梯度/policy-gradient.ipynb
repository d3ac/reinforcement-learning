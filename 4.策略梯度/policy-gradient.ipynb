{
 "cells": [
  {
   "attachments": {},
   "cell_type": "markdown",
   "metadata": {},
   "source": [
    "# 策略梯度"
   ]
  },
  {
   "attachments": {},
   "cell_type": "markdown",
   "metadata": {},
   "source": [
    "### 模型设计\n",
    "\n",
    "最后用了一个 sigmoid 保证输出的概率在 (0, 1) 之间"
   ]
  },
  {
   "cell_type": "code",
   "execution_count": 1,
   "metadata": {},
   "outputs": [],
   "source": [
    "import torch\n",
    "from torch import nn\n",
    "import numpy as np\n",
    "\n",
    "def getnet(input_size, output_size):\n",
    "    return  nn.Sequential(\n",
    "        nn.Linear(input_size, input_size * 4), nn.ReLU(),\n",
    "        nn.Linear(input_size * 4, input_size * 4), nn.ReLU(),\n",
    "        nn.Linear(input_size * 4, output_size), nn.Sigmoid()\n",
    "    )"
   ]
  },
  {
   "cell_type": "code",
   "execution_count": 2,
   "metadata": {},
   "outputs": [],
   "source": [
    "class policy_gradient:\n",
    "    def __init__(self, model, memory, config):\n",
    "        self.gamma = config.gamma\n",
    "        self.device = config.device\n",
    "        self.policy_net = model.to(self.device)\n",
    "        self.memory = memory\n",
    "        self.optimizer = torch.optim.RMSprop(self.policy_net.parameters(), lr=config.lr) # 能缓解多变量下降速度不平衡的问题\n",
    "    \n",
    "    def sample_action(self, state):\n",
    "        state = torch.Tensor(state, dtype=torch.float32)\n",
    "        state = torch.autograd.Variable(state)\n",
    "        probs = self.policy_net(state)\n",
    "        action = torch.distributions.Bernoulli(probs).sample() # 从服从 bernoulli分布的概率中随机抽取, 返回相同 shape的 0 or 1\n",
    "        action = action.data.numpy().astype(int)[0]\n",
    "        return action\n",
    "    \n",
    "    def update(self):\n",
    "        state_pool, action_pool, reward_pool = self.memory.sample()\n",
    "        state_pool, action_pool, reward_pool = list(state_pool), list(action_pool), list(reward_pool)\n",
    "        running_add = 0\n",
    "        for i in reversed(range(len(reward_pool))):\n",
    "            reward_pool[i] = (self.gamma * reward_pool[i-1] + reward_pool[i]) if reward_pool[i] !=0 else 0\n",
    "        # normalize\n",
    "        reward_mean = np.mean(reward_pool)\n",
    "        reward_std = np.std(reward_pool)\n",
    "        for i in range(len(reward_pool)):\n",
    "            reward_pool[i] = (reward_pool[i] - reward_mean) / reward_std\n",
    "        # gradient desent\n",
    "        self.optimizer.zero_grad()\n",
    "        for i in range(len(reward_pool)):\n",
    "            state = torch.autograd.Variable(torch.Tensor(state_pool[i], dtype=torch.float32))\n",
    "            action = torch.autograd.Variable(torch.Tensor(action_pool[i], dtype=torch.float32))\n",
    "            reward = reward_pool[i]\n",
    "            probs = self.policy_net(state)\n",
    "            loss = - torch.distributions.Bernoulli(probs).log_prob(action) * reward # log (在给定的 Bernoulli分布中选中 action的概率)\n",
    "            loss.backward()\n",
    "        self.optimizer.step()\n",
    "        self.memory.clear()"
   ]
  }
 ],
 "metadata": {
  "kernelspec": {
   "display_name": "Python 3",
   "language": "python",
   "name": "python3"
  },
  "language_info": {
   "codemirror_mode": {
    "name": "ipython",
    "version": 3
   },
   "file_extension": ".py",
   "mimetype": "text/x-python",
   "name": "python",
   "nbconvert_exporter": "python",
   "pygments_lexer": "ipython3",
   "version": "3.9.13 (tags/v3.9.13:6de2ca5, May 17 2022, 16:36:42) [MSC v.1929 64 bit (AMD64)]"
  },
  "orig_nbformat": 4,
  "vscode": {
   "interpreter": {
    "hash": "81e75cef6ba1b10275bdce9a4ca9089c470de9a530eb43eaa03a6734d261d4ab"
   }
  }
 },
 "nbformat": 4,
 "nbformat_minor": 2
}
