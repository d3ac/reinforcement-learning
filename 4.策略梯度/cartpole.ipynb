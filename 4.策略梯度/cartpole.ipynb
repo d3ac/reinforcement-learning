{
 "cells": [
  {
   "attachments": {},
   "cell_type": "markdown",
   "metadata": {},
   "source": [
    "# 策略梯度 - cartpole"
   ]
  },
  {
   "cell_type": "code",
   "execution_count": 1,
   "metadata": {},
   "outputs": [],
   "source": [
    "import gymnasium as gym\n",
    "import numpy as np\n",
    "import torch\n",
    "from torch import nn\n",
    "from tqdm import tqdm\n",
    "from collections import defaultdict\n",
    "import os\n",
    "import sys\n",
    "file_dir_name = os.path.dirname(os.getcwd())\n",
    "if file_dir_name not in sys.path:\n",
    "    sys.path.append(file_dir_name)\n",
    "from package import rl_utils"
   ]
  },
  {
   "attachments": {},
   "cell_type": "markdown",
   "metadata": {},
   "source": [
    "定义策略网络"
   ]
  },
  {
   "cell_type": "code",
   "execution_count": 2,
   "metadata": {},
   "outputs": [],
   "source": [
    "class PolicyNet(torch.nn.Module):\n",
    "    def __init__(self, state_dim, hidden_dim, action_dim):\n",
    "        super().__init__()\n",
    "        self.Net = nn.Sequential(\n",
    "            nn.Linear(state_dim, hidden_dim), nn.ReLU(),\n",
    "            nn.Linear(hidden_dim, action_dim), nn.Softmax(dim=1)\n",
    "        )\n",
    "\n",
    "    def forward(self, x):\n",
    "        return self.Net(x)"
   ]
  },
  {
   "attachments": {},
   "cell_type": "markdown",
   "metadata": {},
   "source": [
    "定义算法"
   ]
  },
  {
   "cell_type": "code",
   "execution_count": 3,
   "metadata": {},
   "outputs": [],
   "source": [
    "class REINFORCE:\n",
    "    def __init__(self, config):\n",
    "        self.policy_net = PolicyNet(config.nS, config.hidden_dim, config.nA).to(config.device)\n",
    "        self.optimizer = torch.optim.Adam(self.policy_net.parameters(), lr=config.learning_rate)\n",
    "        self.gamma = config.gamma\n",
    "        self.device = config.device\n",
    "    \n",
    "    def sample_action(self, state):\n",
    "        state = torch.tensor(state, dtype=torch.float).to(self.device)\n",
    "        probs = self.policy_net(state.reshape(1,-1))\n",
    "        action_dist = torch.distributions.Categorical(probs)\n",
    "        return action_dist.sample().item() # sample返回一个tensor, item返回一个数字 (第几个action)\n",
    "\n",
    "    def update(self, transition_dict):\n",
    "        reward_list = transition_dict['reward']\n",
    "        state_list = transition_dict['state']\n",
    "        action_list = transition_dict['action']\n",
    "        \n",
    "        G = 0\n",
    "        self.optimizer.zero_grad()\n",
    "        for i in reversed(range(len(reward_list))):\n",
    "            reward = reward_list[i]\n",
    "            state = torch.tensor(state_list[i], dtype=torch.float32).to(self.device)\n",
    "            action = torch.tensor(action_list[i]).to(self.device)\n",
    "            log_prob = torch.log(self.policy_net(state.reshape(1,-1))[0, action])\n",
    "            G = self.gamma * G + reward\n",
    "            loss = -log_prob * G\n",
    "            loss.backward()\n",
    "        self.optimizer.step()"
   ]
  },
  {
   "attachments": {},
   "cell_type": "markdown",
   "metadata": {},
   "source": [
    "定义配置"
   ]
  },
  {
   "cell_type": "code",
   "execution_count": 4,
   "metadata": {},
   "outputs": [],
   "source": [
    "class Configuration():\n",
    "    def __init__(self, env):\n",
    "        self.nS = env.observation_space.shape[0]\n",
    "        self.nA = env.action_space.n\n",
    "        self.device = torch.device('cuda')\n",
    "        self.gamma = 0.98\n",
    "        self.learning_rate = 1e-3\n",
    "        self.hidden_dim = 128\n",
    "        self.env = env\n",
    "        self.epochs = 1000\n",
    "\n",
    "env = gym.make('CartPole-v1')\n",
    "config = Configuration(env)\n",
    "agent = REINFORCE(config)"
   ]
  },
  {
   "cell_type": "code",
   "execution_count": 5,
   "metadata": {},
   "outputs": [],
   "source": [
    "def train(config, env, agent):\n",
    "    rewards = []\n",
    "    tqdm_iter = tqdm(range(config.epochs))\n",
    "    for i in tqdm_iter:\n",
    "        trainsition = defaultdict(list)\n",
    "        tqdm_iter.set_description(f'train [ {i+1}/{config.epochs} ]')\n",
    "        state = env.reset()[0]\n",
    "        while True:\n",
    "            action = agent.sample_action(state)\n",
    "            next_state, reward, terminated, truncated, info = env.step(action)\n",
    "            trainsition['state'].append(state)\n",
    "            trainsition['reward'].append(reward)\n",
    "            trainsition['action'].append(action)\n",
    "            state = next_state\n",
    "            if terminated or truncated:\n",
    "                break\n",
    "        agent.update(trainsition)\n",
    "        rewards.append(np.sum(trainsition['reward']))\n",
    "        tqdm_iter.set_postfix(reward=f'{np.mean(rewards[-10:])}')\n",
    "        tqdm_iter.update()\n",
    "    return rewards\n",
    "    "
   ]
  },
  {
   "cell_type": "code",
   "execution_count": 6,
   "metadata": {},
   "outputs": [
    {
     "name": "stderr",
     "output_type": "stream",
     "text": [
      "train [ 1000/1000 ]: 100%|██████████| 1000/1000 [03:51<00:00,  4.33it/s, reward=446.8]         \n"
     ]
    }
   ],
   "source": [
    "rewards = train(config, env, agent)"
   ]
  },
  {
   "cell_type": "code",
   "execution_count": 7,
   "metadata": {},
   "outputs": [
    {
     "data": {
      "image/png": "[encoded data removed]",
      "text/plain": [
       "<Figure size 432x288 with 1 Axes>"
      ]
     },
     "metadata": {
      "needs_background": "light"
     },
     "output_type": "display_data"
    }
   ],
   "source": [
    "import matplotlib.pyplot as plt\n",
    "plt.plot(list(range(len(rewards))), rewards);"
   ]
  }
 ],
 "metadata": {
  "kernelspec": {
   "display_name": "Python 3",
   "language": "python",
   "name": "python3"
  },
  "language_info": {
   "codemirror_mode": {
    "name": "ipython",
    "version": 3
   },
   "file_extension": ".py",
   "mimetype": "text/x-python",
   "name": "python",
   "nbconvert_exporter": "python",
   "pygments_lexer": "ipython3",
   "version": "3.9.13"
  },
  "orig_nbformat": 4,
  "vscode": {
   "interpreter": {
    "hash": "81e75cef6ba1b10275bdce9a4ca9089c470de9a530eb43eaa03a6734d261d4ab"
   }
  }
 },
 "nbformat": 4,
 "nbformat_minor": 2
}
