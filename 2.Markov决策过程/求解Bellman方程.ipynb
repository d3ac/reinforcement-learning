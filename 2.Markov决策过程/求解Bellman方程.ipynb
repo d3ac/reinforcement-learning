{
 "cells": [
  {
   "cell_type": "code",
   "execution_count": 1,
   "metadata": {},
   "outputs": [],
   "source": [
    "import sympy\n",
    "from sympy import symbols\n",
    "sympy.init_printing()"
   ]
  },
  {
   "cell_type": "code",
   "execution_count": 2,
   "metadata": {},
   "outputs": [],
   "source": [
    "v_hungry, v_full = symbols('v_hungry v_full')\n",
    "q_hungry_eat, q_hungry_none, q_full_eat, q_full_none = symbols('q_hungry_eat q_hungry_none q_full_eat q_full_none')\n",
    "alpha, beta, gamma = symbols('alpha beta gamma')\n",
    "x, y = symbols('x y')"
   ]
  },
  {
   "cell_type": "code",
   "execution_count": 3,
   "metadata": {},
   "outputs": [
    {
     "data": {
      "image/png": "[encoded data removed]",
      "text/latex": [
       "$\\displaystyle \\left\\{ q_{full eat} : \\frac{- \\alpha \\gamma^{2} x y - \\alpha \\gamma x + \\beta \\gamma^{2} x y - \\beta \\gamma^{2} y + 3 \\beta \\gamma y + \\gamma^{2} y - \\gamma y + \\gamma - 1}{\\alpha \\gamma^{2} x - \\alpha \\gamma x + \\beta \\gamma^{2} y - \\beta \\gamma y - \\gamma^{2} + 2 \\gamma - 1}, \\  q_{full none} : \\frac{- \\alpha \\gamma^{2} x y + \\alpha \\gamma^{2} x - 2 \\alpha \\gamma x + \\beta \\gamma^{2} x y - \\beta \\gamma^{2} x - \\beta \\gamma^{2} y + \\beta \\gamma^{2} + \\beta \\gamma x + 3 \\beta \\gamma y - 5 \\beta \\gamma + 4 \\beta + \\gamma^{2} y - \\gamma^{2} - \\gamma y + 3 \\gamma - 2}{\\alpha \\gamma^{2} x - \\alpha \\gamma x + \\beta \\gamma^{2} y - \\beta \\gamma y - \\gamma^{2} + 2 \\gamma - 1}, \\  q_{hungry eat} : \\frac{- \\alpha \\gamma^{2} x y + \\alpha \\gamma^{2} x + \\alpha \\gamma^{2} y - \\alpha \\gamma^{2} - 2 \\alpha \\gamma x - \\alpha \\gamma y + 5 \\alpha \\gamma - 4 \\alpha + \\beta \\gamma^{2} x y - \\beta \\gamma^{2} y + 3 \\beta \\gamma y - \\gamma^{2} x + \\gamma^{2} + \\gamma x - 4 \\gamma + 3}{\\alpha \\gamma^{2} x - \\alpha \\gamma x + \\beta \\gamma^{2} y - \\beta \\gamma y - \\gamma^{2} + 2 \\gamma - 1}, \\  q_{hungry none} : \\frac{- \\alpha \\gamma^{2} x y + \\alpha \\gamma^{2} x - 2 \\alpha \\gamma x + \\beta \\gamma^{2} x y + 2 \\beta \\gamma y - \\gamma^{2} x + \\gamma x - 2 \\gamma + 2}{\\alpha \\gamma^{2} x - \\alpha \\gamma x + \\beta \\gamma^{2} y - \\beta \\gamma y - \\gamma^{2} + 2 \\gamma - 1}, \\  v_{full} : \\frac{- \\alpha \\gamma x y - \\alpha \\gamma x + \\beta \\gamma x y - 2 \\beta \\gamma y + 4 \\beta y + \\gamma y + \\gamma - y - 1}{\\alpha \\gamma^{2} x - \\alpha \\gamma x + \\beta \\gamma^{2} y - \\beta \\gamma y - \\gamma^{2} + 2 \\gamma - 1}, \\  v_{hungry} : \\frac{- \\alpha \\gamma x y + 3 \\alpha \\gamma x - 4 \\alpha x + \\beta \\gamma x y + 2 \\beta \\gamma y - \\gamma x - 2 \\gamma + x + 2}{\\alpha \\gamma^{2} x - \\alpha \\gamma x + \\beta \\gamma^{2} y - \\beta \\gamma y - \\gamma^{2} + 2 \\gamma - 1}\\right\\}$"
      ],
      "text/plain": [
       "⎧                 2                  2          2                2            \n",
       "⎪            - α⋅γ ⋅x⋅y - α⋅γ⋅x + β⋅γ ⋅x⋅y - β⋅γ ⋅y + 3⋅β⋅γ⋅y + γ ⋅y - γ⋅y + γ\n",
       "⎨q_full_eat: ─────────────────────────────────────────────────────────────────\n",
       "⎪                           2                2              2                 \n",
       "⎩                        α⋅γ ⋅x - α⋅γ⋅x + β⋅γ ⋅y - β⋅γ⋅y - γ  + 2⋅γ - 1       \n",
       "\n",
       "                        2          2                  2          2        2   \n",
       " - 1               - α⋅γ ⋅x⋅y + α⋅γ ⋅x - 2⋅α⋅γ⋅x + β⋅γ ⋅x⋅y - β⋅γ ⋅x - β⋅γ ⋅y \n",
       "────, q_full_none: ───────────────────────────────────────────────────────────\n",
       "                                                              2               \n",
       "                                                           α⋅γ ⋅x - α⋅γ⋅x + β⋅\n",
       "\n",
       "     2                                    2      2                            \n",
       "+ β⋅γ  + β⋅γ⋅x + 3⋅β⋅γ⋅y - 5⋅β⋅γ + 4⋅β + γ ⋅y - γ  - γ⋅y + 3⋅γ - 2            \n",
       "──────────────────────────────────────────────────────────────────, q_hungry_e\n",
       " 2              2                                                             \n",
       "γ ⋅y - β⋅γ⋅y - γ  + 2⋅γ - 1                                                   \n",
       "\n",
       "         2          2        2        2                                      2\n",
       "    - α⋅γ ⋅x⋅y + α⋅γ ⋅x + α⋅γ ⋅y - α⋅γ  - 2⋅α⋅γ⋅x - α⋅γ⋅y + 5⋅α⋅γ - 4⋅α + β⋅γ \n",
       "at: ──────────────────────────────────────────────────────────────────────────\n",
       "                                               2                2             \n",
       "                                            α⋅γ ⋅x - α⋅γ⋅x + β⋅γ ⋅y - β⋅γ⋅y - \n",
       "\n",
       "          2                2      2                                      2    \n",
       "⋅x⋅y - β⋅γ ⋅y + 3⋅β⋅γ⋅y - γ ⋅x + γ  + γ⋅x - 4⋅γ + 3                 - α⋅γ ⋅x⋅y\n",
       "───────────────────────────────────────────────────, q_hungry_none: ──────────\n",
       " 2                                                                            \n",
       "γ  + 2⋅γ - 1                                                                  \n",
       "\n",
       "      2                  2                  2                                 \n",
       " + α⋅γ ⋅x - 2⋅α⋅γ⋅x + β⋅γ ⋅x⋅y + 2⋅β⋅γ⋅y - γ ⋅x + γ⋅x - 2⋅γ + 2          -α⋅γ⋅\n",
       "───────────────────────────────────────────────────────────────, v_full: ─────\n",
       "       2                2              2                                      \n",
       "    α⋅γ ⋅x - α⋅γ⋅x + β⋅γ ⋅y - β⋅γ⋅y - γ  + 2⋅γ - 1                            \n",
       "\n",
       "                                                                              \n",
       "x⋅y - α⋅γ⋅x + β⋅γ⋅x⋅y - 2⋅β⋅γ⋅y + 4⋅β⋅y + γ⋅y + γ - y - 1            -α⋅γ⋅x⋅y \n",
       "─────────────────────────────────────────────────────────, v_hungry: ─────────\n",
       "      2                2              2                                       \n",
       "   α⋅γ ⋅x - α⋅γ⋅x + β⋅γ ⋅y - β⋅γ⋅y - γ  + 2⋅γ - 1                             \n",
       "\n",
       "                                                         ⎫\n",
       "+ 3⋅α⋅γ⋅x - 4⋅α⋅x + β⋅γ⋅x⋅y + 2⋅β⋅γ⋅y - γ⋅x - 2⋅γ + x + 2⎪\n",
       "─────────────────────────────────────────────────────────⎬\n",
       "    2                2              2                    ⎪\n",
       " α⋅γ ⋅x - α⋅γ⋅x + β⋅γ ⋅y - β⋅γ⋅y - γ  + 2⋅γ - 1          ⎭"
      ]
     },
     "execution_count": 3,
     "metadata": {},
     "output_type": "execute_result"
    }
   ],
   "source": [
    "# system 的最后一列是线性方程组的常数 b\n",
    "system = sympy.Matrix((\n",
    "    (1, 0, x-1, -x, 0, 0, 0),\n",
    "    (0, 1, 0, 0, -y, y-1, 0),\n",
    "    (-gamma, 0, 1, 0, 0, 0, -2),\n",
    "    ((alpha-1)*gamma, -alpha*gamma, 0, 1, 0, 0, 4*alpha-3),\n",
    "    (-beta*gamma, (beta-1)*gamma, 0, 0, 1, 0, -4*beta+2),\n",
    "    (0, -gamma, 0, 0, 0, 1, 1)\n",
    "))\n",
    "solvex = (v_hungry, v_full, q_hungry_none, q_hungry_eat, q_full_none, q_full_eat)\n",
    "# 第一个放系数矩阵 Matrix, 然后后面挨着放 x\n",
    "sympy.solve_linear_system(system, *solvex)"
   ]
  }
 ],
 "metadata": {
  "kernelspec": {
   "display_name": "Python 3",
   "language": "python",
   "name": "python3"
  },
  "language_info": {
   "codemirror_mode": {
    "name": "ipython",
    "version": 3
   },
   "file_extension": ".py",
   "mimetype": "text/x-python",
   "name": "python",
   "nbconvert_exporter": "python",
   "pygments_lexer": "ipython3",
   "version": "3.9.13 (tags/v3.9.13:6de2ca5, May 17 2022, 16:36:42) [MSC v.1929 64 bit (AMD64)]"
  },
  "orig_nbformat": 4,
  "vscode": {
   "interpreter": {
    "hash": "81e75cef6ba1b10275bdce9a4ca9089c470de9a530eb43eaa03a6734d261d4ab"
   }
  }
 },
 "nbformat": 4,
 "nbformat_minor": 2
}
