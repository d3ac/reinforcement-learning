{
 "cells": [
  {
   "attachments": {},
   "cell_type": "markdown",
   "metadata": {},
   "source": [
    "# 策略迭代 & 价值迭代"
   ]
  },
  {
   "cell_type": "code",
   "execution_count": 1,
   "metadata": {},
   "outputs": [],
   "source": [
    "import gym\n",
    "import numpy as np"
   ]
  },
  {
   "cell_type": "code",
   "execution_count": 2,
   "metadata": {},
   "outputs": [
    {
     "name": "stdout",
     "output_type": "stream",
     "text": [
      "观察空间 = Discrete(16)\n",
      "动作空间 = Discrete(4)\n",
      "观测空间大小 = 16\n",
      "动作空间大小 = 4\n",
      "[(0.3333333333333333, 14, 0.0, False), (0.3333333333333333, 15, 1.0, True), (0.3333333333333333, 10, 0.0, False)]\n"
     ]
    }
   ],
   "source": [
    "env = gym.make('FrozenLake-v1')\n",
    "print('观察空间 = {}'.format(env.observation_space))\n",
    "print('动作空间 = {}'.format(env.action_space)) # 左下右上\n",
    "print('观测空间大小 = {}'.format(env.observation_space.n))\n",
    "print('动作空间大小 = {}'.format(env.action_space.n))\n",
    "print(env.unwrapped.P[14][2]) # unwrapped 是一个获取原始对象的方法,在这里不适用也可以"
   ]
  },
  {
   "cell_type": "code",
   "execution_count": 3,
   "metadata": {},
   "outputs": [],
   "source": [
    "def play_policy(env, policy, render=False):\n",
    "    total_reward = 0\n",
    "    observation, _ = env.reset()\n",
    "    while True:\n",
    "        if render:\n",
    "            env.render()\n",
    "        action = np.random.choice(env.action_space.n, p=policy[observation])\n",
    "        observation, reward, terminated, truncated, _ = env.step(action)\n",
    "        total_reward += reward\n",
    "        if terminated or truncated:\n",
    "            break\n",
    "    return total_reward"
   ]
  },
  {
   "attachments": {},
   "cell_type": "markdown",
   "metadata": {},
   "source": [
    "使用随机策略玩一把"
   ]
  },
  {
   "cell_type": "code",
   "execution_count": 4,
   "metadata": {},
   "outputs": [
    {
     "name": "stdout",
     "output_type": "stream",
     "text": [
      "使用随机策略下的平均奖励是: 0.0145\n"
     ]
    }
   ],
   "source": [
    "random_policy = np.ones((env.observation_space.n, env.action_space.n)) /env.action_space.n\n",
    "# 向四个方向的概率都是一样的\n",
    "episode_rewards = [play_policy(env, random_policy) for _ in range(10000)]\n",
    "print(f'使用随机策略下的平均奖励是: {np.mean(episode_rewards)}')"
   ]
  },
  {
   "attachments": {},
   "cell_type": "markdown",
   "metadata": {},
   "source": [
    "策略评估"
   ]
  },
  {
   "cell_type": "code",
   "execution_count": 5,
   "metadata": {},
   "outputs": [],
   "source": [
    "def v2q_Recursion(env, v, s=None, gamma=1.0):\n",
    "    # 效率慢\n",
    "    if s is not None:\n",
    "        q = np.zeros(env.action_space.n)\n",
    "        for a in range(env.action_space.n):\n",
    "            for prob, next_state, reward, terminated in env.P[s][a]:\n",
    "                q[a] += prob * (reward + gamma * v[next_state] * (1 - terminated))\n",
    "    else:\n",
    "        q = np.zeros((env.observation_space.n, env.action_space.n))\n",
    "        for s in range(env.observation_space.n):\n",
    "            q[s] = v2q_Recursion(env, v, s, gamma)\n",
    "    return q\n",
    "\n",
    "def v2q(env, v, gamma=1.0):\n",
    "    q = np.zeros((env.observation_space.n, env.action_space.n))\n",
    "    for s in range(env.observation_space.n):\n",
    "        for a in range(env.action_space.n):\n",
    "            for prob, next_state, reward, terminated in env.P[s][a]:\n",
    "                q[s,a] += prob * (reward + gamma * v[next_state] * (1 - terminated))\n",
    "                # 加上 terminated 之后就把结束状态考虑进去了\n",
    "    return q\n",
    "\n",
    "def evaluate_policy(env, policy, gamma=1.0, tolerant=1e-6):\n",
    "    v = np.zeros(env.observation_space.n)\n",
    "    while True:\n",
    "        delta = 0\n",
    "        for s in range(env.observation_space.n):\n",
    "            vs = sum(policy[s] * v2q_Recursion(env, v, s, gamma))\n",
    "            # 因为每次都会更新 v 所以算出来的值是不一样的, 上面的那种写法会很方便的求出q\n",
    "            delta = max(delta, abs(v[s]-vs))\n",
    "            v[s] = vs\n",
    "        if delta < tolerant:\n",
    "            break\n",
    "    return v"
   ]
  },
  {
   "attachments": {},
   "cell_type": "markdown",
   "metadata": {},
   "source": [
    "测试"
   ]
  },
  {
   "cell_type": "code",
   "execution_count": 6,
   "metadata": {},
   "outputs": [
    {
     "name": "stdout",
     "output_type": "stream",
     "text": [
      "状态价值函数:\n",
      "[[0.0139372  0.01162942 0.02095187 0.01047569]\n",
      " [0.01624741 0.         0.04075119 0.        ]\n",
      " [0.03480561 0.08816967 0.14205297 0.        ]\n",
      " [0.         0.17582021 0.43929104 0.        ]]\n",
      "动作价值函数:\n",
      "[[0.01470727 0.01393801 0.01393801 0.01316794]\n",
      " [0.00852221 0.01162969 0.01086043 0.01550616]\n",
      " [0.02444416 0.0209521  0.02405958 0.01435233]\n",
      " [0.01047585 0.01047585 0.00698379 0.01396775]\n",
      " [0.02166341 0.01701767 0.0162476  0.01006154]\n",
      " [0.         0.         0.         0.        ]\n",
      " [0.05433495 0.04735099 0.05433495 0.00698396]\n",
      " [0.         0.         0.         0.        ]\n",
      " [0.01701767 0.04099176 0.03480569 0.04640756]\n",
      " [0.0702086  0.11755959 0.10595772 0.05895286]\n",
      " [0.18940397 0.17582024 0.16001408 0.04297362]\n",
      " [0.         0.         0.         0.        ]\n",
      " [0.         0.         0.         0.        ]\n",
      " [0.08799662 0.20503708 0.23442697 0.17582024]\n",
      " [0.25238807 0.53837042 0.52711467 0.43929106]\n",
      " [0.         0.         0.         0.        ]]\n"
     ]
    }
   ],
   "source": [
    "v_random = evaluate_policy(env, random_policy)\n",
    "print('状态价值函数:')\n",
    "print(v_random.reshape(4,4))\n",
    "print('动作价值函数:')\n",
    "print(v2q_Recursion(env, v_random))"
   ]
  },
  {
   "cell_type": "code",
   "execution_count": 7,
   "metadata": {},
   "outputs": [],
   "source": [
    "def improve_policy(env, v, policy, gamma=1.0):\n",
    "    optimal = True\n",
    "    for s in range(env.observation_space.n):\n",
    "        q = v2q_Recursion(env, v, s, gamma)\n",
    "        a = np.argmax(q)\n",
    "        if policy[s][a] != 1.0:\n",
    "            optimal = False\n",
    "            policy[s] = 0.0\n",
    "            policy[s][a] = 1.0\n",
    "    return optimal"
   ]
  },
  {
   "attachments": {},
   "cell_type": "markdown",
   "metadata": {},
   "source": [
    "对随机策略进行改进"
   ]
  },
  {
   "cell_type": "code",
   "execution_count": 8,
   "metadata": {},
   "outputs": [
    {
     "name": "stdout",
     "output_type": "stream",
     "text": [
      "[[1. 0. 0. 0.]\n",
      " [0. 0. 0. 1.]\n",
      " [1. 0. 0. 0.]\n",
      " [0. 0. 0. 1.]\n",
      " [1. 0. 0. 0.]\n",
      " [1. 0. 0. 0.]\n",
      " [1. 0. 0. 0.]\n",
      " [1. 0. 0. 0.]\n",
      " [0. 0. 0. 1.]\n",
      " [0. 1. 0. 0.]\n",
      " [1. 0. 0. 0.]\n",
      " [1. 0. 0. 0.]\n",
      " [1. 0. 0. 0.]\n",
      " [0. 0. 1. 0.]\n",
      " [0. 1. 0. 0.]\n",
      " [1. 0. 0. 0.]]\n"
     ]
    }
   ],
   "source": [
    "policy = random_policy.copy()\n",
    "optimal = improve_policy(env, v_random, policy) # optimal == True 表示已经到达了最优了, 没有更新\n",
    "print(policy)"
   ]
  },
  {
   "cell_type": "code",
   "execution_count": 9,
   "metadata": {},
   "outputs": [
    {
     "name": "stdout",
     "output_type": "stream",
     "text": [
      "使用优化后的策略下的平均奖励是: 0.0145\n"
     ]
    }
   ],
   "source": [
    "bepisode_rewards = [play_policy(env, policy) for _ in range(100)]\n",
    "print(f'使用优化后的策略下的平均奖励是: {np.mean(episode_rewards)}')"
   ]
  },
  {
   "cell_type": "markdown",
   "metadata": {},
   "source": [
    "策略迭代"
   ]
  },
  {
   "cell_type": "code",
   "execution_count": 10,
   "metadata": {},
   "outputs": [],
   "source": [
    "def iterate_policy(env, gamma=1.0, tolerant=1e-9): # 迭代中又有迭代, 所以速度很慢\n",
    "    # 生成一个随机的动作\n",
    "    policy = np.ones((env.observation_space.n, env.action_space.n)) / env.action_space.n\n",
    "    while True: # 一直迭代到收敛为止\n",
    "        v = evaluate_policy(env, policy, gamma, tolerant) # 一次迭代\n",
    "        if improve_policy(env, v, policy):\n",
    "            break\n",
    "    return policy, v"
   ]
  },
  {
   "cell_type": "code",
   "execution_count": 11,
   "metadata": {},
   "outputs": [
    {
     "name": "stdout",
     "output_type": "stream",
     "text": [
      "[[0.8235294  0.82352939 0.82352939 0.82352938]\n",
      " [0.8235294  0.         0.52941175 0.        ]\n",
      " [0.8235294  0.8235294  0.76470587 0.        ]\n",
      " [0.         0.88235293 0.94117647 0.        ]]\n",
      "[[0 3 3 3]\n",
      " [0 0 0 0]\n",
      " [3 1 0 0]\n",
      " [0 2 1 0]]\n"
     ]
    }
   ],
   "source": [
    "policy, v = iterate_policy(env)\n",
    "print(v.reshape(4, 4))\n",
    "print(np.argmax(policy, axis=1).reshape(4, 4))"
   ]
  },
  {
   "cell_type": "code",
   "execution_count": 12,
   "metadata": {},
   "outputs": [
    {
     "name": "stdout",
     "output_type": "stream",
     "text": [
      "策略迭代 平均奖励：0.8\n"
     ]
    }
   ],
   "source": [
    "episode_rewards = [play_policy(env, policy)  for _ in range(100)]\n",
    "print(\"策略迭代 平均奖励：{}\".format(np.mean(episode_rewards)))"
   ]
  },
  {
   "attachments": {},
   "cell_type": "markdown",
   "metadata": {},
   "source": [
    "价值迭代"
   ]
  },
  {
   "cell_type": "code",
   "execution_count": 15,
   "metadata": {},
   "outputs": [],
   "source": [
    "def iterate_value(env, gamma=1.0, tolerant=1e-6):\n",
    "    v = np.zeros(env.observation_space.n)\n",
    "    while True:\n",
    "        delta = 0\n",
    "        for s in range(env.observation_space.n):\n",
    "            vmax = max(v2q_Recursion(env, v, s, gamma))\n",
    "            delta = max(delta, abs(v[s] - vmax))\n",
    "            v[s] = vmax\n",
    "        if delta < tolerant: \n",
    "            break\n",
    "    policy = np.zeros((env.observation_space.n, env.action_space.n))\n",
    "    for s in range(env.observation_space.n):\n",
    "        a = np.argmax(v2q_Recursion(env, v, s, gamma))\n",
    "        policy[s][a] = 1.0\n",
    "    return policy, v"
   ]
  },
  {
   "cell_type": "code",
   "execution_count": 16,
   "metadata": {},
   "outputs": [
    {
     "name": "stdout",
     "output_type": "stream",
     "text": [
      "[[0.82351232 0.82350671 0.82350281 0.82350083]\n",
      " [0.82351404 0.         0.52940011 0.        ]\n",
      " [0.82351673 0.82352018 0.76469779 0.        ]\n",
      " [0.         0.88234653 0.94117321 0.        ]]\n",
      "[[0 3 3 3]\n",
      " [0 0 0 0]\n",
      " [3 1 0 0]\n",
      " [0 2 1 0]]\n"
     ]
    }
   ],
   "source": [
    "policy, v = iterate_value(env)\n",
    "print(v.reshape(4, 4))\n",
    "print(np.argmax(policy, axis=1).reshape(4, 4))"
   ]
  },
  {
   "cell_type": "code",
   "execution_count": 17,
   "metadata": {},
   "outputs": [
    {
     "name": "stdout",
     "output_type": "stream",
     "text": [
      "价值迭代 平均奖励：0.76\n"
     ]
    }
   ],
   "source": [
    "episode_rewards = [play_policy(env, policy) for _ in range(100)]\n",
    "print(\"价值迭代 平均奖励：{}\".format(np.mean(episode_rewards)))"
   ]
  }
 ],
 "metadata": {
  "kernelspec": {
   "display_name": "Python 3",
   "language": "python",
   "name": "python3"
  },
  "language_info": {
   "codemirror_mode": {
    "name": "ipython",
    "version": 3
   },
   "file_extension": ".py",
   "mimetype": "text/x-python",
   "name": "python",
   "nbconvert_exporter": "python",
   "pygments_lexer": "ipython3",
   "version": "3.9.13 (tags/v3.9.13:6de2ca5, May 17 2022, 16:36:42) [MSC v.1929 64 bit (AMD64)]"
  },
  "orig_nbformat": 4,
  "vscode": {
   "interpreter": {
    "hash": "81e75cef6ba1b10275bdce9a4ca9089c470de9a530eb43eaa03a6734d261d4ab"
   }
  }
 },
 "nbformat": 4,
 "nbformat_minor": 2
}
